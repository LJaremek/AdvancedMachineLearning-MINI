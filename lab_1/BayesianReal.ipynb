{
 "cells": [
  {
   "cell_type": "markdown",
   "metadata": {},
   "source": [
    "Choose 3 datasets which are available on e.g.:\n",
    "- UCI repository https://archive.ics.uci.edu/ml/index.php\n",
    "- OpenML repository https://www.openml.org/\n",
    "\n",
    "related to binary classiffcation problem.\n",
    "\n",
    "Please only focus on datasets with numerical features."
   ]
  },
  {
   "cell_type": "code",
   "execution_count": 1,
   "metadata": {},
   "outputs": [],
   "source": [
    "import numpy as np\n",
    "\n",
    "np.random.seed(1337)\n",
    "\n",
    "from preapring_datasets import (\n",
    "    read_iris_data,\n",
    "    read_abalone_data,\n",
    "    read_diabetes_data\n",
    ")\n",
    "\n",
    "datasets = {\n",
    "    \"iris\": read_iris_data(),\n",
    "    \"abalone\": read_abalone_data(),\n",
    "    \"diabetic\": read_diabetes_data()\n",
    "    }\n"
   ]
  },
  {
   "cell_type": "markdown",
   "metadata": {},
   "source": [
    "Compare LDA, QDA, and NB.\n",
    "\n",
    "Split data into training set and test set.\n",
    "\n",
    "Train the model on the train set and compute accuracy on the test set. \n",
    "\n",
    "Repeat the experiment for different train/test splits and generate boxplots showing the values of accuracy for each method.\n",
    "\n",
    "Save the results for three datasets in the file BayesianReal.pdf"
   ]
  },
  {
   "cell_type": "code",
   "execution_count": 2,
   "metadata": {},
   "outputs": [],
   "source": [
    "import matplotlib.pyplot as plt\n",
    "\n",
    "from BinaryClassifiers import LDA, QDA, NaiveBayes\n",
    "from tools import train_test_split\n"
   ]
  },
  {
   "cell_type": "code",
   "execution_count": 3,
   "metadata": {},
   "outputs": [],
   "source": [
    "models = (LDA, QDA, NaiveBayes)\n"
   ]
  },
  {
   "cell_type": "code",
   "execution_count": 4,
   "metadata": {},
   "outputs": [
    {
     "name": "stdout",
     "output_type": "stream",
     "text": [
      "Dataset:  iris\n",
      "Records:  100\n",
      "Features: 4\n",
      "\n",
      "LDA         -  100.0 %\n",
      "QDA         -  100.0 %\n",
      "Naive Bayes -   90.0 %\n",
      "--------------------\n",
      "\n",
      "Dataset:  abalone\n",
      "Records:  4177\n",
      "Features: 8\n",
      "\n",
      "LDA         -  83.13 %\n",
      "QDA         -  78.23 %\n",
      "Naive Bayes -  55.98 %\n",
      "--------------------\n",
      "\n",
      "Dataset:  diabetic\n",
      "Records:  253680\n",
      "Features: 21\n",
      "\n",
      "LDA         -  61.18 %\n",
      "QDA         -  62.14 %\n",
      "Naive Bayes -  60.14 %\n",
      "--------------------\n",
      "\n"
     ]
    }
   ],
   "source": [
    "# One iteration. Data split 8:2\n",
    "\n",
    "for dataset_name, dataset in datasets.items():\n",
    "    print(\"Dataset: \", dataset_name)\n",
    "    print(\"Records: \", dataset.shape[0])\n",
    "    print(\"Features:\", dataset.shape[1]-1)\n",
    "    print()\n",
    "    np.random.shuffle(dataset)\n",
    "\n",
    "    train, test = train_test_split(dataset, 0.8)\n",
    "    for model in models:\n",
    "        model_instance = model()\n",
    "        model_instance.fit(train[:, :-1], train[:, -1])\n",
    "\n",
    "        all_count = 0\n",
    "        good_count = 0\n",
    "        for record in test:\n",
    "            y = record[-1]\n",
    "            x = record[:-1]\n",
    "\n",
    "            y_pred = model_instance.predict(x)\n",
    "\n",
    "            if y == y_pred:\n",
    "                good_count += 1\n",
    "            all_count += 1\n",
    "        acc = round(good_count/all_count*100, 2)\n",
    "        print(f\"{model.name:11} - {acc:6} %\")\n",
    "    print(f\"{'-'*20}\\n\")\n"
   ]
  },
  {
   "cell_type": "code",
   "execution_count": 5,
   "metadata": {},
   "outputs": [],
   "source": [
    "results = {\n",
    "    dataset_name: {\n",
    "        model.name: []\n",
    "        for model in models\n",
    "    }\n",
    "    for dataset_name in datasets\n",
    "}\n",
    "\n",
    "for dataset_name, dataset in datasets.items():\n",
    "    np.random.shuffle(dataset)\n",
    "\n",
    "    for data_split in (0.5, 0.6, 0.7, 0.8, 0.9):\n",
    "        train, test = train_test_split(dataset, data_split)\n",
    "        for model in models:\n",
    "            model_instance = model()\n",
    "            model_instance.fit(train[:, :-1], train[:, -1])\n",
    "\n",
    "            all_count = 0\n",
    "            good_count = 0\n",
    "            for record in test:\n",
    "                y = record[-1]\n",
    "                x = record[:-1]\n",
    "\n",
    "                y_pred = model_instance.predict(x)\n",
    "\n",
    "                if y == y_pred:\n",
    "                    good_count += 1\n",
    "                all_count += 1\n",
    "            acc = round(good_count/all_count*100, 2)\n",
    "\n",
    "            results[dataset_name][model_instance.name].append(acc)\n"
   ]
  },
  {
   "cell_type": "code",
   "execution_count": 6,
   "metadata": {},
   "outputs": [
    {
     "data": {
      "text/plain": [
       "{'iris': {'LDA': [94.0, 95.0, 96.67, 95.0, 90.0],\n",
       "  'QDA': [94.0, 95.0, 96.67, 95.0, 90.0],\n",
       "  'Naive Bayes': [94.0, 97.5, 96.67, 95.0, 90.0]},\n",
       " 'abalone': {'LDA': [83.68, 83.72, 83.65, 82.18, 80.38],\n",
       "  'QDA': [77.98, 78.82, 78.95, 78.83, 78.71],\n",
       "  'Naive Bayes': [57.3, 56.31, 56.7, 56.82, 57.89]},\n",
       " 'diabetic': {'LDA': [61.07, 61.15, 61.19, 61.32, 60.77],\n",
       "  'QDA': [62.25, 62.34, 62.46, 62.57, 62.24],\n",
       "  'Naive Bayes': [59.95, 60.15, 60.32, 60.4, 59.95]}}"
      ]
     },
     "execution_count": 6,
     "metadata": {},
     "output_type": "execute_result"
    }
   ],
   "source": [
    "results\n"
   ]
  },
  {
   "cell_type": "code",
   "execution_count": 11,
   "metadata": {},
   "outputs": [
    {
     "data": {
      "image/png": "[encoded data removed]",
      "text/plain": [
       "<Figure size 864x432 with 3 Axes>"
      ]
     },
     "metadata": {
      "needs_background": "light"
     },
     "output_type": "display_data"
    }
   ],
   "source": [
    "def draw_boxplots(results):\n",
    "    _, axes = plt.subplots(nrows=1, ncols=len(results), figsize=(12, 6), sharey=True)\n",
    "    \n",
    "    for ax, (dataset_name, models) in zip(axes, results.items()):\n",
    "        data = [np.array(models[model_name]) for model_name in models]\n",
    "        ax.boxplot(data)\n",
    "        ax.set_title(dataset_name)\n",
    "        ax.set_xticks(range(1, len(models) + 1))\n",
    "        ax.set_xticklabels(models.keys())\n",
    "\n",
    "    plt.tight_layout()\n",
    "    plt.savefig(\"plots/custom_datasets.png\")\n",
    "    plt.show()\n",
    "\n",
    "draw_boxplots(results)\n"
   ]
  },
  {
   "cell_type": "markdown",
   "metadata": {},
   "source": [
    "For the simple Iris dataset, all classifiers are similarly good and achieve close to 100% efficiency (one category was cut because we need only two).\n",
    "\n",
    "For the Abalone dataset, I averaged the ages. Since the classifier is binary, the task is to predict whether age is below or above average, rather than estimating an exact number. In this case, the LDA model turned out to be surprisingly better than QDA. Naive Bayes is clearly worse.\n",
    "\n",
    "For the Diabetic set, the task is to estimate the person's gender based on medical data. The task was a pure experiment without much expectation, but all classifiers turned out to be better than the random model by 10 percentage points.\n"
   ]
  }
 ],
 "metadata": {
  "kernelspec": {
   "display_name": "Python 3",
   "language": "python",
   "name": "python3"
  },
  "language_info": {
   "codemirror_mode": {
    "name": "ipython",
    "version": 3
   },
   "file_extension": ".py",
   "mimetype": "text/x-python",
   "name": "python",
   "nbconvert_exporter": "python",
   "pygments_lexer": "ipython3",
   "version": "3.9.9"
  },
  "orig_nbformat": 4
 },
 "nbformat": 4,
 "nbformat_minor": 2
}
