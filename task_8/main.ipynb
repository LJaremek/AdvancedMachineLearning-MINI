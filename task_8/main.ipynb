{
 "cells": [
  {
   "cell_type": "code",
   "execution_count": 12,
   "metadata": {},
   "outputs": [],
   "source": [
    "_ = \"\"\"\n",
    "1. Feature importance meesures based on RF:\n",
    "    a) impurities based on measures\n",
    "    b) permutations based on measures\n",
    "\n",
    "2. Boruta algorithm (POSLA GUROM) - to niżej to nie jest 100% poprawne:\n",
    "    default variables + \"shadow\" variables\n",
    "    default scores + \"shadow\" scores\n",
    "\n",
    "    Use random forest\n",
    "\n",
    "    if some default score is bigger then max(shadow_scores):\n",
    "        variable is important (stay)\n",
    "    elif some default score is lower then min(shadow_scores):\n",
    "        variable is not important (to delete)\n",
    "    else:\n",
    "        we do not have knowledge about the variable\n",
    "\n",
    "    Repeat until all variable will be deleted or stay\n",
    "\"\"\"\n"
   ]
  },
  {
   "cell_type": "markdown",
   "metadata": {},
   "source": [
    "TODO:\n",
    "pip install Boruta"
   ]
  },
  {
   "cell_type": "code",
   "execution_count": 13,
   "metadata": {},
   "outputs": [],
   "source": [
    "from sklearn.model_selection import train_test_split\n",
    "from sklearn.ensemble import RandomForestClassifier\n",
    "import matplotlib.pyplot as plt\n",
    "from scipy.stats import chi2\n",
    "import numpy as np\n",
    "\n",
    "np.int = np.int32\n",
    "np.float = np.float64\n",
    "np.bool = np.bool_\n",
    "\n",
    "from boruta import BorutaPy\n",
    "\n"
   ]
  },
  {
   "cell_type": "code",
   "execution_count": 3,
   "metadata": {},
   "outputs": [],
   "source": [
    "def get_dataset_1(\n",
    "        size: int,\n",
    "        features: int,\n",
    "        significant_features: int\n",
    "        ) -> tuple[np.array, np.array]:\n",
    "\n",
    "    X = np.random.normal(0, 1, size=(size, features))\n",
    "\n",
    "    chi2_median = chi2.ppf(0.5, significant_features)\n",
    "\n",
    "    X_k = X[:, :significant_features]\n",
    "    X_k_sumsq = np.sum(X_k ** 2, axis=1)\n",
    "\n",
    "    Y = (X_k_sumsq > chi2_median).astype(int)\n",
    "\n",
    "    return X, Y\n",
    "\n",
    "\n",
    "def get_dataset_2(\n",
    "        size: int,\n",
    "        features: int,\n",
    "        significant_features: int\n",
    "        ) -> tuple[np.array, np.array]:\n",
    "\n",
    "    X = np.random.normal(0, 1, size=(size, features))\n",
    "\n",
    "    X_k = X[:, :significant_features]\n",
    "    X_k_sum_abs = np.sum(np.abs(X_k), axis=1)\n",
    "\n",
    "    Y = (X_k_sum_abs > significant_features).astype(int)\n",
    "\n",
    "    return X, Y\n",
    "\n",
    "\n",
    "def get_random_forest_features(\n",
    "        x: np.array,\n",
    "        y: np.array,\n",
    "        n: int\n",
    "        ) -> list[tuple[str, float]]:\n",
    "    \"\"\"\n",
    "    Input:\n",
    "     * x: np.array - features of dataset\n",
    "     * y: np.array - binary labels of dataset\n",
    "     * n: int - how many the best scores return\n",
    "\n",
    "    Output:\n",
    "     * list[tuple[str, float]] - list with results.\n",
    "        Every tuple represent featurer name and the score\n",
    "    \"\"\"\n",
    "\n",
    "    feature_names = [f\"feature {i}\" for i in range(x.shape[1])]\n",
    "    forest = RandomForestClassifier(random_state=0)\n",
    "    forest.fit(x, y)\n",
    "\n",
    "    feature_importances = forest.feature_importances_\n",
    "\n",
    "    forest_importances = {\n",
    "        feature_names[i]: feature_importances[i]\n",
    "        for i in range(len(feature_names))\n",
    "    }\n",
    "\n",
    "    sorted_features = sorted(\n",
    "        forest_importances.items(),\n",
    "        key=lambda x:x[1],\n",
    "        reverse=True\n",
    "        )\n",
    "    \n",
    "    return sorted_features[:n]\n",
    "\n",
    "\n",
    "def get_boruta_features(\n",
    "        x: np.array,\n",
    "        y: np.array\n",
    "        ) -> list[tuple[str, float]]:\n",
    "    \"\"\"\n",
    "    Input:\n",
    "     * x: np.array - features of dataset\n",
    "     * y: np.array - binary labels of dataset\n",
    "\n",
    "    Output:\n",
    "     * list[tuple[str, float]] - list with results.\n",
    "        Every tuple represent featurer name and the score\n",
    "    \"\"\"\n",
    "\n",
    "    rf = RandomForestClassifier(n_jobs=-1, class_weight=\"balanced\")\n",
    "    boruta_model = BorutaPy(rf, n_estimators=\"auto\")\n",
    "    boruta_model.fit(x, y)\n",
    "\n",
    "    feature_names = [f\"feature {i}\" for i in range(x.shape[1])]\n",
    "    feature_importances = boruta_model.support_\n",
    "\n",
    "    the_best_features = [\n",
    "        (feature_names[i], 1.0)\n",
    "        for i in range(len(feature_names))\n",
    "        if feature_importances[i] == True\n",
    "    ]\n",
    "\n",
    "    return the_best_features\n",
    "\n",
    "\n",
    "def check_dataset(\n",
    "        X: np.array,\n",
    "        y: np.array,\n",
    "        significant_features: list[str],\n",
    "        print_: bool = True\n",
    "        ) -> tuple[int, int]:\n",
    "\n",
    "    boruta_features = get_boruta_features(X, y)\n",
    "    rf_feafuter = get_random_forest_features(X, y, len(boruta_features))\n",
    "\n",
    "    b_names = [f[0] for f in boruta_features]\n",
    "    rf_names = [f[0] for f in rf_feafuter]\n",
    "\n",
    "    if print_:\n",
    "        print(\"Feature name\\tBoruta\\tRForest\\tSignificant\")\n",
    "        print(\"-\"*43)\n",
    "\n",
    "    b_results = 0\n",
    "    rf_results = 0\n",
    "\n",
    "    for feature in sorted(set(significant_features + b_names + rf_names)):\n",
    "        b_exists = True if feature in b_names else \" \"\n",
    "        rf_exits = True if feature in rf_names else \" \"\n",
    "        is_significant = True if feature in significant_features else \" \"\n",
    "\n",
    "        if feature in significant_features and feature in b_names:\n",
    "            b_results += 1\n",
    "        \n",
    "        if feature in significant_features and feature in rf_names:\n",
    "            rf_results += 1\n",
    "\n",
    "        if print_:\n",
    "            print(feature, b_exists, rf_exits, is_significant, sep=\"\\t\")\n",
    "\n",
    "    return b_results, rf_results\n"
   ]
  },
  {
   "cell_type": "code",
   "execution_count": 4,
   "metadata": {},
   "outputs": [],
   "source": [
    "X1, y1 = get_dataset_1(100, 50, 10)\n",
    "X2, y2 = get_dataset_1(100, 50, 10)\n",
    "\n",
    "X1_train, X1_test, y1_train, y1_test = train_test_split(X1, y1)\n",
    "X2_train, X2_test, y2_train, y2_test = train_test_split(X2, y2)\n"
   ]
  },
  {
   "cell_type": "code",
   "execution_count": 5,
   "metadata": {},
   "outputs": [],
   "source": [
    "feature_names = [f\"feature {i}\" for i in range(X1.shape[1])]\n",
    "significant_features = feature_names[:10]\n"
   ]
  },
  {
   "cell_type": "markdown",
   "metadata": {},
   "source": [
    "# (a) Check if the considered algorithms assign the highest variable importance scores to the significant variables"
   ]
  },
  {
   "cell_type": "code",
   "execution_count": 6,
   "metadata": {},
   "outputs": [
    {
     "name": "stdout",
     "output_type": "stream",
     "text": [
      "Feature name\tBoruta\tRForest\tSignificant\n",
      "-------------------------------------------\n",
      "feature 0\tTrue\tTrue\tTrue\n",
      "feature 1\t \t \tTrue\n",
      "feature 2\t \t \tTrue\n",
      "feature 3\t \t \tTrue\n",
      "feature 4\t \t \tTrue\n",
      "feature 5\t \t \tTrue\n",
      "feature 6\t \t \tTrue\n",
      "feature 7\t \t \tTrue\n",
      "feature 8\tTrue\tTrue\tTrue\n",
      "feature 9\t \t \tTrue\n"
     ]
    }
   ],
   "source": [
    "_ = check_dataset(X1, y1, significant_features)\n"
   ]
  },
  {
   "cell_type": "code",
   "execution_count": 7,
   "metadata": {},
   "outputs": [
    {
     "name": "stdout",
     "output_type": "stream",
     "text": [
      "Feature name\tBoruta\tRForest\tSignificant\n",
      "-------------------------------------------\n",
      "feature 0\t \t \tTrue\n",
      "feature 1\t \t \tTrue\n",
      "feature 2\t \t \tTrue\n",
      "feature 22\t \tTrue\t \n",
      "feature 23\tTrue\t \t \n",
      "feature 28\tTrue\tTrue\t \n",
      "feature 3\t \t \tTrue\n",
      "feature 4\t \t \tTrue\n",
      "feature 43\tTrue\tTrue\t \n",
      "feature 5\t \t \tTrue\n",
      "feature 6\t \t \tTrue\n",
      "feature 7\t \t \tTrue\n",
      "feature 8\t \t \tTrue\n",
      "feature 9\tTrue\tTrue\tTrue\n"
     ]
    }
   ],
   "source": [
    "_ = check_dataset(X2, y2, significant_features)\n"
   ]
  },
  {
   "cell_type": "markdown",
   "metadata": {},
   "source": [
    "Conclusions: Sometimes yes, sometimes no :/"
   ]
  },
  {
   "cell_type": "markdown",
   "metadata": {},
   "source": [
    "# (b) Try different values of n, p and k. First, you can use values: n = 500, p = 50 and k = 10."
   ]
  },
  {
   "cell_type": "code",
   "execution_count": 8,
   "metadata": {},
   "outputs": [
    {
     "name": "stdout",
     "output_type": "stream",
     "text": [
      "Feature name\tBoruta\tRForest\tSignificant\n",
      "-------------------------------------------\n",
      "feature 0\tTrue\tTrue\tTrue\n",
      "feature 1\tTrue\tTrue\tTrue\n",
      "feature 2\tTrue\tTrue\tTrue\n",
      "feature 3\tTrue\tTrue\tTrue\n",
      "feature 4\tTrue\tTrue\tTrue\n",
      "feature 5\tTrue\tTrue\tTrue\n",
      "feature 6\tTrue\tTrue\tTrue\n",
      "feature 7\tTrue\tTrue\tTrue\n",
      "feature 8\tTrue\tTrue\tTrue\n",
      "feature 9\tTrue\tTrue\tTrue\n",
      "\n",
      "\n",
      "Feature name\tBoruta\tRForest\tSignificant\n",
      "-------------------------------------------\n",
      "feature 0\tTrue\tTrue\tTrue\n",
      "feature 1\tTrue\tTrue\tTrue\n",
      "feature 2\tTrue\tTrue\tTrue\n",
      "feature 21\tTrue\tTrue\t \n",
      "feature 3\tTrue\tTrue\tTrue\n",
      "feature 4\tTrue\tTrue\tTrue\n",
      "feature 5\tTrue\tTrue\tTrue\n",
      "feature 6\tTrue\tTrue\tTrue\n",
      "feature 7\tTrue\tTrue\tTrue\n",
      "feature 8\tTrue\tTrue\tTrue\n",
      "feature 9\tTrue\tTrue\tTrue\n"
     ]
    }
   ],
   "source": [
    "k = 10\n",
    "\n",
    "X1, y1 = get_dataset_1(500, 50, k)\n",
    "X2, y2 = get_dataset_1(500, 50, k)\n",
    "\n",
    "feature_names = [f\"feature {i}\" for i in range(X1.shape[1])]\n",
    "significant_features = feature_names[:k]\n",
    "\n",
    "_ = check_dataset(X1, y1, significant_features)\n",
    "\n",
    "print()\n",
    "print()\n",
    "\n",
    "_ = check_dataset(X2, y2, significant_features)\n"
   ]
  },
  {
   "cell_type": "markdown",
   "metadata": {},
   "source": [
    "# (c) Repeat data generation process L = 50 times and estimate the probabilities of correct ordering, i.e. compute the fraction of simulations in which the significant variables are selected as relevant or are placed on the top of the ranking list. Take smaller L if simulations are too expensive computationally."
   ]
  },
  {
   "cell_type": "code",
   "execution_count": 9,
   "metadata": {},
   "outputs": [],
   "source": [
    "feature_names = [f\"feature {i}\" for i in range(X1.shape[1])]\n",
    "significant_features = feature_names[:k]\n",
    "\n",
    "boruta_acc_ds1 = []\n",
    "rforest_acc_ds1 = []\n",
    "\n",
    "boruta_acc_ds2 = []\n",
    "rforest_acc_ds2 = []\n",
    "\n",
    "for _ in range(50):\n",
    "    X1, y1 = get_dataset_1(100, 50, 10)\n",
    "    X2, y2 = get_dataset_1(100, 50, 10)\n",
    "\n",
    "    b_results, rf_results = check_dataset(X1, y1, significant_features, False)\n",
    "\n",
    "    boruta_acc_ds1.append(b_results)\n",
    "    rforest_acc_ds1.append(rf_results)\n",
    "\n",
    "    b_results, rf_results = check_dataset(X2, y2, significant_features, False)\n",
    "\n",
    "    boruta_acc_ds2.append(b_results)\n",
    "    rforest_acc_ds2.append(rf_results)\n"
   ]
  },
  {
   "cell_type": "code",
   "execution_count": 16,
   "metadata": {},
   "outputs": [
    {
     "data": {
      "image/png": "[encoded data removed]",
      "text/plain": [
       "<Figure size 1400x700 with 2 Axes>"
      ]
     },
     "metadata": {},
     "output_type": "display_data"
    }
   ],
   "source": [
    "plt.figure(figsize=(14, 7))\n",
    "\n",
    "# Dataset 1\n",
    "plt.subplot(1, 2, 1)\n",
    "plt.boxplot([boruta_acc_ds1, rforest_acc_ds1], labels=['Boruta', 'Random Forest'])\n",
    "plt.title('Boxplot of Accuracies for Dataset 1')\n",
    "plt.ylabel('Accuracy')\n",
    "plt.grid(True)\n",
    "\n",
    "# Dataset 2\n",
    "plt.subplot(1, 2, 2)\n",
    "plt.boxplot([boruta_acc_ds2, rforest_acc_ds2], labels=['Boruta', 'Random Forest'])\n",
    "plt.title('Boxplot of Accuracies for Dataset 2')\n",
    "plt.grid(True)\n",
    "\n",
    "plt.tight_layout()\n",
    "plt.show()"
   ]
  },
  {
   "cell_type": "markdown",
   "metadata": {},
   "source": [
    "# d) Fix n = 2000, p = 500, k = 20. Let t denote the number of top-ranked features according to the considered feature importance measure. Train the classifier (e.g. random forest) using t top-ranked features and analyze how the classification accuracy depends on t = 5, 10, 15, 20, 50, 100, 200, 300, 400, 500. Generate a plot showing the dependence."
   ]
  },
  {
   "cell_type": "code",
   "execution_count": 10,
   "metadata": {},
   "outputs": [
    {
     "ename": "NameError",
     "evalue": "name 'X' is not defined",
     "output_type": "error",
     "traceback": [
      "\u001b[1;31m---------------------------------------------------------------------------\u001b[0m",
      "\u001b[1;31mNameError\u001b[0m                                 Traceback (most recent call last)",
      "Cell \u001b[1;32mIn[10], line 6\u001b[0m\n\u001b[0;32m      3\u001b[0m X1, y1 \u001b[38;5;241m=\u001b[39m get_dataset_1(\u001b[38;5;241m2000\u001b[39m, \u001b[38;5;241m500\u001b[39m, \u001b[38;5;241m20\u001b[39m)\n\u001b[0;32m      4\u001b[0m X2, y2 \u001b[38;5;241m=\u001b[39m get_dataset_1(\u001b[38;5;241m2000\u001b[39m, \u001b[38;5;241m500\u001b[39m, \u001b[38;5;241m20\u001b[39m)\n\u001b[1;32m----> 6\u001b[0m boruta_features \u001b[38;5;241m=\u001b[39m get_boruta_features(\u001b[43mX\u001b[49m, y)\n\u001b[0;32m      7\u001b[0m rf_feafuter \u001b[38;5;241m=\u001b[39m get_random_forest_features(X, y, \u001b[38;5;28mlen\u001b[39m(boruta_features))\n",
      "\u001b[1;31mNameError\u001b[0m: name 'X' is not defined"
     ]
    }
   ],
   "source": [
    "t_list = (5, 10, 15, 20, 50, 100, 200, 300, 400, 500)\n",
    "\n",
    "X1, y1 = get_dataset_1(2000, 500, 20)\n",
    "X2, y2 = get_dataset_1(2000, 500, 20)\n",
    "\n",
    "# Las na wsyzstkich zmiennych i wyciągnąć istotność kolumn\n",
    "feature_names = [f\"feature {i}\" for i in range(X1.shape[1])]\n",
    "forest = RandomForestClassifier()\n",
    "forest.fit(X1, y1)\n",
    "\n",
    "feature_importances = forest.feature_importances_\n",
    "\n",
    "for t in t_list:\n",
    "    feature_names = [f\"feature {i}\" for i in range(X1.shape[1])]\n",
    "    forest = RandomForestClassifier()\n",
    "    forest.fit(X1[:, :t], y1)\n",
    "\n",
    "    feature_importances = forest.feature_importances_\n",
    "\n",
    "    forest_importances = {\n",
    "        feature_names[i]: feature_importances[i]\n",
    "        for i in range(len(feature_names))\n",
    "    }\n",
    "\n",
    "    sorted_features = sorted(\n",
    "        forest_importances.items(),\n",
    "        key=lambda x:x[1],\n",
    "        reverse=True\n",
    "        )\n"
   ]
  },
  {
   "cell_type": "markdown",
   "metadata": {},
   "source": [
    "# TODO: zrobić wykres, x to 't', Y to 'accuracy'. Po t=20 powinno nie rosnąć"
   ]
  }
 ],
 "metadata": {
  "kernelspec": {
   "display_name": "base",
   "language": "python",
   "name": "python3"
  },
  "language_info": {
   "codemirror_mode": {
    "name": "ipython",
    "version": 3
   },
   "file_extension": ".py",
   "mimetype": "text/x-python",
   "name": "python",
   "nbconvert_exporter": "python",
   "pygments_lexer": "ipython3",
   "version": "3.10.14"
  }
 },
 "nbformat": 4,
 "nbformat_minor": 2
}
