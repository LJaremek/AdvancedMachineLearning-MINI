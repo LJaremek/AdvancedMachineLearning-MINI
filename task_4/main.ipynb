{
 "cells": [
  {
   "cell_type": "markdown",
   "metadata": {},
   "source": [
    "# 1. Imports\n",
    "#"
   ]
  },
  {
   "cell_type": "code",
   "execution_count": 1,
   "metadata": {},
   "outputs": [],
   "source": [
    "from random import randint\n",
    "\n",
    "from sklearn.tree import DecisionTreeClassifier\n",
    "from sklearn.tree import DecisionTreeRegressor\n",
    "from sklearn.tree import BaseDecisionTree\n",
    "import pandas as pd\n",
    "import numpy as np\n"
   ]
  },
  {
   "cell_type": "markdown",
   "metadata": {},
   "source": [
    "# 2. Classes and functions\n",
    "#"
   ]
  },
  {
   "cell_type": "code",
   "execution_count": 2,
   "metadata": {},
   "outputs": [],
   "source": [
    "class Bagging:\n",
    "    def __init__(\n",
    "            self,\n",
    "            dataset: pd.DataFrame,\n",
    "            y_name: str,\n",
    "            tree: BaseDecisionTree,\n",
    "            size: int = 10\n",
    "            ) -> None:\n",
    "\n",
    "        self.trees: list[BaseDecisionTree] = []\n",
    "        self.tree = tree\n",
    "        self.df = dataset\n",
    "        self.y_name = y_name\n",
    "        self.size = size\n",
    "\n",
    "        self._set_criterion()\n",
    "\n",
    "        self._boostrap()\n",
    "\n",
    "    def _set_criterion(self) -> None:\n",
    "        if self.tree == DecisionTreeClassifier:\n",
    "            self.criterion = \"entropy\"\n",
    "        elif self.tree == DecisionTreeRegressor:\n",
    "            self.criterion = \"squared_error\"\n",
    "        else:\n",
    "            msg = \"Invalid Tree type! Available are: (DecisionTreeClassifier, \"\n",
    "            msg += f\"DecisionTreeRegressor) but was given '{type(self.tree)}'.\"\n",
    "            raise Exception(msg)\n",
    "\n",
    "    def _single_boostrap(self) -> BaseDecisionTree:\n",
    "        x = self.df.drop([self.y_name], axis=1)\n",
    "        y = self.df[self.y_name]\n",
    "\n",
    "        new_x = []\n",
    "        new_y = []\n",
    "        records: int = len(self.df)\n",
    "        for _ in range(records):\n",
    "            index = randint(0, records-1)\n",
    "\n",
    "            new_x.append(x.iloc[index])\n",
    "            new_y.append(y.iloc[index])\n",
    "\n",
    "        new_x = pd.DataFrame(new_x, columns=list(x.columns))\n",
    "        new_y = pd.DataFrame(new_y, columns=[self.y_name])\n",
    "\n",
    "        new_tree = self.tree(criterion=self.criterion)\n",
    "        new_tree.fit(new_x, new_y)\n",
    "\n",
    "        return new_tree\n",
    "\n",
    "    def _boostrap(self) -> None:\n",
    "        for _ in range(self.size):\n",
    "            new_tree = self._single_boostrap()\n",
    "            self.trees.append(new_tree)\n",
    "\n",
    "    def _predict_classifier(self, x) -> int:\n",
    "        values = []\n",
    "        for tree in self.trees:\n",
    "            pred = tree.predict(x)\n",
    "            values.append(pred)\n",
    "\n",
    "        if sum(values) > len(values)/2:\n",
    "            return 1\n",
    "        return 0\n",
    "\n",
    "    def _predict_regresor(self, x) -> float:\n",
    "        values = []\n",
    "        for tree in self.trees:\n",
    "            pred = tree.predict(x).astype(float)[0]\n",
    "            values.append(pred)\n",
    "        return np.mean(np.array(values))\n",
    "\n",
    "    def predict(self, x) -> float:\n",
    "        if self.tree == DecisionTreeClassifier:\n",
    "            return self._predict_classifier(x)\n",
    "        elif self.tree == DecisionTreeRegressor:\n",
    "            return self._predict_regresor(x)\n"
   ]
  },
  {
   "cell_type": "markdown",
   "metadata": {},
   "source": [
    "# 3. Test on 'SAheart.data' dataset\n",
    "#"
   ]
  },
  {
   "cell_type": "markdown",
   "metadata": {},
   "source": [
    "### 3.1. Bagging test"
   ]
  },
  {
   "cell_type": "code",
   "execution_count": 3,
   "metadata": {},
   "outputs": [
    {
     "name": "stdout",
     "output_type": "stream",
     "text": [
      "(462, 12)\n",
      "(323, 12)\n",
      "(139, 12)\n"
     ]
    }
   ],
   "source": [
    "df = pd.read_csv(\"data/SAheart.data\")\n",
    "df = df.sample(frac=1)  # shuffle\n",
    "\n",
    "df = pd.get_dummies(df, columns=[\"famhist\"])\n",
    "\n",
    "train_size = int(len(df)*0.7)\n",
    "\n",
    "df_train = df.iloc[:train_size, :]\n",
    "df_test = df.iloc[train_size:, :]\n",
    "\n",
    "x_test = df_test.drop([\"chd\"], axis=1)\n",
    "\n",
    "columns = list(x_test.columns)\n",
    "\n",
    "y_test = df_test[\"chd\"]\n",
    "\n",
    "print(df.shape)\n",
    "print(df_train.shape)\n",
    "print(df_test.shape)\n"
   ]
  },
  {
   "cell_type": "code",
   "execution_count": 4,
   "metadata": {},
   "outputs": [
    {
     "name": "stdout",
     "output_type": "stream",
     "text": [
      "Bagging accuracu: 66.18705035971223\n"
     ]
    }
   ],
   "source": [
    "my_bagging = Bagging(df_train, \"chd\", DecisionTreeClassifier, 30)\n",
    "\n",
    "good = 0\n",
    "all_ = 0\n",
    "\n",
    "for i in range(len(x_test)):\n",
    "    x = x_test.iloc[i].values.reshape(1, -1)\n",
    "    x = pd.DataFrame(x, columns=columns)\n",
    "    y = y_test.iloc[i]\n",
    "\n",
    "    y_pred = my_bagging.predict(x)\n",
    "\n",
    "    if y_pred == y:\n",
    "        good += 1\n",
    "    all_ += 1\n",
    "\n",
    "print(\"Bagging accuracu:\", good/all_*100)\n"
   ]
  },
  {
   "cell_type": "markdown",
   "metadata": {},
   "source": [
    "### 3.2. Single tree test"
   ]
  },
  {
   "cell_type": "code",
   "execution_count": 5,
   "metadata": {},
   "outputs": [],
   "source": [
    "df = pd.read_csv(\"data/SAheart.data\")\n",
    "df = df.sample(frac=1)  # shuffle\n",
    "\n",
    "df = pd.get_dummies(df, columns=[\"famhist\"])\n",
    "\n",
    "train_size = int(len(df)*0.7)\n",
    "\n",
    "df_train = df.iloc[:train_size, :]\n",
    "df_test = df.iloc[train_size:, :]\n",
    "\n",
    "x_train = df_train.drop([\"chd\"], axis=1)\n",
    "y_train = df_train[\"chd\"]\n",
    "\n",
    "columns = list(x_test.columns)\n",
    "\n",
    "y_test = df_test[\"chd\"]\n"
   ]
  },
  {
   "cell_type": "code",
   "execution_count": 6,
   "metadata": {},
   "outputs": [
    {
     "name": "stdout",
     "output_type": "stream",
     "text": [
      "Single tree accuracy: 56.83453237410072\n"
     ]
    }
   ],
   "source": [
    "tree = DecisionTreeClassifier(criterion=\"entropy\")\n",
    "\n",
    "tree.fit(x_train, y_train)\n",
    "\n",
    "good = 0\n",
    "all_ = 0\n",
    "\n",
    "for i in range(len(df_test)):\n",
    "    x = x_test.iloc[i].values.reshape(1, -1)\n",
    "    x = pd.DataFrame(x, columns=columns)\n",
    "    y = y_test.iloc[i]\n",
    "\n",
    "    y_pred = my_bagging.predict(x)\n",
    "\n",
    "    if y_pred == y:\n",
    "        good += 1\n",
    "    all_ += 1\n",
    "\n",
    "print(\"Single tree accuracy:\", good/all_*100)\n"
   ]
  },
  {
   "cell_type": "markdown",
   "metadata": {},
   "source": [
    "# 3. Test on 'fitness.txt' dataset\n",
    "#"
   ]
  },
  {
   "cell_type": "markdown",
   "metadata": {},
   "source": [
    "Draw..."
   ]
  },
  {
   "cell_type": "code",
   "execution_count": 7,
   "metadata": {},
   "outputs": [
    {
     "name": "stdout",
     "output_type": "stream",
     "text": [
      "48.08366666666666 47.273\n",
      "45.060333333333325 45.681\n",
      "45.35176666666666 46.08\n",
      "49.27763333333334 50.545\n",
      "45.028666666666666 44.609\n",
      "49.155 46.672\n",
      "55.33139999999999 60.055\n",
      "49.38743333333333 45.441\n",
      "40.89769999999999 39.407\n",
      "48.42846666666666 50.541\n",
      "0.0\n"
     ]
    }
   ],
   "source": [
    "df = pd.read_csv(\"data/fitness.txt\", sep=\"\\\\s+\")\n",
    "df = df.sample(frac=1)  # shuffle\n",
    "\n",
    "train_size = int(len(df)*0.7)\n",
    "\n",
    "df_train = df.iloc[:train_size, :]\n",
    "df_test = df.iloc[train_size:, :]\n",
    "\n",
    "# print(df.shape)\n",
    "# print(df_train.shape)\n",
    "# print(df_test.shape)\n",
    "\n",
    "my_bagging = Bagging(df_train, \"Oxygen\", DecisionTreeRegressor, 30)\n",
    "\n",
    "x_test = df_test.drop([\"Oxygen\"], axis=1)\n",
    "\n",
    "columns = list(x_test.columns)\n",
    "\n",
    "y_test = df_test[\"Oxygen\"]\n",
    "\n",
    "good = 0\n",
    "all_ = 0\n",
    "\n",
    "for i in range(len(x_test)):\n",
    "    x = x_test.iloc[i].values.reshape(1, -1)\n",
    "    x = pd.DataFrame(x, columns=columns)\n",
    "    y = y_test.iloc[i]\n",
    "\n",
    "    y_pred = my_bagging.predict(x)\n",
    "    print(y_pred, y)\n",
    "\n",
    "    if y_pred == y:\n",
    "        good += 1\n",
    "    all_ += 1\n",
    "\n",
    "print(good/all_*100)\n"
   ]
  }
 ],
 "metadata": {
  "kernelspec": {
   "display_name": "Python 3",
   "language": "python",
   "name": "python3"
  },
  "language_info": {
   "codemirror_mode": {
    "name": "ipython",
    "version": 3
   },
   "file_extension": ".py",
   "mimetype": "text/x-python",
   "name": "python",
   "nbconvert_exporter": "python",
   "pygments_lexer": "ipython3",
   "version": "3.9.9"
  },
  "orig_nbformat": 4
 },
 "nbformat": 4,
 "nbformat_minor": 2
}
